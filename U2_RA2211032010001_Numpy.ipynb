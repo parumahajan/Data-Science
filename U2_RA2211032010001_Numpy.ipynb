{
  "nbformat": 4,
  "nbformat_minor": 0,
  "metadata": {
    "colab": {
      "provenance": []
    },
    "kernelspec": {
      "name": "python3",
      "display_name": "Python 3"
    },
    "language_info": {
      "name": "python"
    }
  },
  "cells": [
    {
      "cell_type": "code",
      "execution_count": null,
      "metadata": {
        "colab": {
          "base_uri": "https://localhost:8080/"
        },
        "id": "i2P4SG02JG07",
        "outputId": "8ae4d339-9d2b-45e2-efdd-a6a96cf4e5b9"
      },
      "outputs": [
        {
          "output_type": "stream",
          "name": "stdout",
          "text": [
            "1D Array:\n",
            "[1 2 3 4 5 6]\n",
            "\n",
            "2D Array:\n",
            "[[1 2 3]\n",
            " [4 5 6]]\n"
          ]
        }
      ],
      "source": [
        "#RESHAPING AN ARRAY FROM 1D TO 2D\n",
        "import numpy as np\n",
        "\n",
        "# Example 1D array\n",
        "arr_1d = np.array([1, 2, 3, 4, 5, 6])\n",
        "\n",
        "# Reshape to a 2D array with 2 rows and 3 columns\n",
        "arr_2d = arr_1d.reshape(2, 3)\n",
        "\n",
        "print(\"1D Array:\")\n",
        "print(arr_1d)\n",
        "\n",
        "print(\"\\n2D Array:\")\n",
        "print(arr_2d)"
      ]
    },
    {
      "cell_type": "code",
      "source": [
        "# TO CREATE A LOWER TRIANGULAR MATRIX WITH ONES (tri)\n",
        "# Full Triangular Matrix (tri)\n",
        "import numpy as np\n",
        "\n",
        "n = 4  # Size of the matrix\n",
        "tri_matrix = np.tri(n)\n",
        "\n",
        "print(\"Full Triangular Matrix (Lower):\")\n",
        "print(tri_matrix)"
      ],
      "metadata": {
        "colab": {
          "base_uri": "https://localhost:8080/"
        },
        "id": "TYeM6V0lJ1CV",
        "outputId": "1bccf727-8ea0-41e5-bf70-5f2b30b456d0"
      },
      "execution_count": null,
      "outputs": [
        {
          "output_type": "stream",
          "name": "stdout",
          "text": [
            "Full Triangular Matrix (Lower):\n",
            "[[1. 0. 0. 0.]\n",
            " [1. 1. 0. 0.]\n",
            " [1. 1. 1. 0.]\n",
            " [1. 1. 1. 1.]]\n"
          ]
        }
      ]
    },
    {
      "cell_type": "code",
      "source": [
        "# TO CREATE A LOWER TRIANGULAR MATRIX WITH ONES (tri-u)\n",
        "import numpy as np\n",
        "\n",
        "# Create a sample 2D array\n",
        "matrix = np.array([[1, 2, 3],\n",
        "                   [4, 5, 6],\n",
        "                   [7, 8, 9]])\n",
        "\n",
        "# Extract the upper triangular part\n",
        "upper_tri_matrix = np.triu(matrix)\n",
        "\n",
        "print(\"Upper Triangular Matrix:\")\n",
        "print(upper_tri_matrix)"
      ],
      "metadata": {
        "colab": {
          "base_uri": "https://localhost:8080/"
        },
        "id": "tUYEdjJkKp8K",
        "outputId": "83b5002f-5e88-4702-8b19-f31d5a341ebb"
      },
      "execution_count": null,
      "outputs": [
        {
          "output_type": "stream",
          "name": "stdout",
          "text": [
            "Upper Triangular Matrix:\n",
            "[[1 2 3]\n",
            " [0 5 6]\n",
            " [0 0 9]]\n"
          ]
        }
      ]
    },
    {
      "cell_type": "code",
      "source": [
        "# TO CREATE A LOWER TRIANGULAR MATRIX WITH ONES (tri-l)\n",
        "import numpy as np\n",
        "\n",
        "# Create a sample 2D array\n",
        "matrix = np.array([[1, 2, 3],\n",
        "                   [4, 5, 6],\n",
        "                   [7, 8, 9]])\n",
        "\n",
        "# Extract the lower triangular part\n",
        "lower_tri_matrix = np.tril(matrix)\n",
        "\n",
        "print(\"Lower Triangular Matrix:\")\n",
        "print(lower_tri_matrix)"
      ],
      "metadata": {
        "colab": {
          "base_uri": "https://localhost:8080/"
        },
        "id": "kEGPcw_wKqFw",
        "outputId": "83ae91e4-0357-4210-ad87-ea0196997cf6"
      },
      "execution_count": null,
      "outputs": [
        {
          "output_type": "stream",
          "name": "stdout",
          "text": [
            "Lower Triangular Matrix:\n",
            "[[1 0 0]\n",
            " [4 5 0]\n",
            " [7 8 9]]\n"
          ]
        }
      ]
    },
    {
      "cell_type": "code",
      "source": [
        "import numpy as np\n",
        "\n",
        "# Creating a matrix using np.mat()\n",
        "A = np.mat('1 2 3; 4 5 6; 7 8 9')\n",
        "\n",
        "# Display the matrix\n",
        "print(\"Matrix A:\")\n",
        "print(A)\n",
        "\n",
        "# Transpose of the matrix\n",
        "print(\"\\nTranspose of A:\")\n",
        "print(A.T)\n",
        "\n",
        "# Matrix multiplication\n",
        "B = np.mat('9 8 7; 6 5 4; 3 2 1')\n",
        "print(\"\\nMatrix B:\")\n",
        "print(B)\n",
        "\n",
        "C = A * B  # Matrix multiplication using np.mat()\n",
        "print(\"\\nMatrix Multiplication (A * B):\")\n",
        "print(C)\n"
      ],
      "metadata": {
        "colab": {
          "base_uri": "https://localhost:8080/"
        },
        "id": "74Cw6tqlNPp5",
        "outputId": "34b58ca1-4797-47d2-fbb3-22b2ad3a2246"
      },
      "execution_count": null,
      "outputs": [
        {
          "output_type": "stream",
          "name": "stdout",
          "text": [
            "Matrix A:\n",
            "[[1 2 3]\n",
            " [4 5 6]\n",
            " [7 8 9]]\n",
            "\n",
            "Transpose of A:\n",
            "[[1 4 7]\n",
            " [2 5 8]\n",
            " [3 6 9]]\n",
            "\n",
            "Matrix B:\n",
            "[[9 8 7]\n",
            " [6 5 4]\n",
            " [3 2 1]]\n",
            "\n",
            "Matrix Multiplication (A * B):\n",
            "[[ 30  24  18]\n",
            " [ 84  69  54]\n",
            " [138 114  90]]\n"
          ]
        }
      ]
    },
    {
      "cell_type": "code",
      "source": [
        "# Define a sample list\n",
        "numbers = [10, 20, 30, 40, 50, 60, 70, 80, 90, 100]\n",
        "\n",
        "# Basic slicing: list[start:stop:step]\n",
        "print(numbers[2:6])     # Output: [30, 40, 50, 60] (index 2 to 5)\n",
        "print(numbers[:4])      # Output: [10, 20, 30, 40] (from start to index 3)\n",
        "print(numbers[5:])      # Output: [60, 70, 80, 90, 100] (index 5 to end)\n",
        "print(numbers[::2])     # Output: [10, 30, 50, 70, 90] (every 2nd element)\n",
        "print(numbers[::-1])    # Output: [100, 90, 80, 70, 60, 50, 40, 30, 20, 10] (reversed list)\n",
        "\n",
        "# Slicing a string\n",
        "text = \"Hello, World!\"\n",
        "print(text[0:5])   # Output: 'Hello'\n",
        "print(text[::-1])  # Output: '!dlroW ,olleH' (reversed string)\n"
      ],
      "metadata": {
        "colab": {
          "base_uri": "https://localhost:8080/"
        },
        "id": "MYS-EOdnOItA",
        "outputId": "51d78368-9907-461c-b95f-8aa31c274309"
      },
      "execution_count": null,
      "outputs": [
        {
          "output_type": "stream",
          "name": "stdout",
          "text": [
            "[30, 40, 50, 60]\n",
            "[10, 20, 30, 40]\n",
            "[60, 70, 80, 90, 100]\n",
            "[10, 30, 50, 70, 90]\n",
            "[100, 90, 80, 70, 60, 50, 40, 30, 20, 10]\n",
            "Hello\n",
            "!dlroW ,olleH\n"
          ]
        }
      ]
    },
    {
      "cell_type": "code",
      "source": [
        "# Indexing in a list\n",
        "numbers = [10, 20, 30, 40, 50]\n",
        "\n",
        "print(numbers[0])  # Output: 10 (first element)\n",
        "print(numbers[2])  # Output: 30 (third element)\n",
        "print(numbers[-1]) # Output: 50 (last element)\n",
        "print(numbers[-3]) # Output: 30 (third element from the end)\n",
        "\n",
        "# Indexing in a string\n",
        "text = \"Python\"\n",
        "\n",
        "print(text[0])   # Output: 'P' (first character)\n",
        "print(text[3])   # Output: 'h' (fourth character)\n",
        "print(text[-1])  # Output: 'n' (last character)\n",
        "print(text[-4])  # Output: 't' (fourth character from the end)\n"
      ],
      "metadata": {
        "colab": {
          "base_uri": "https://localhost:8080/"
        },
        "id": "62UTUxbWPgtB",
        "outputId": "77563149-d08f-4f8c-afda-21aef975393f"
      },
      "execution_count": null,
      "outputs": [
        {
          "output_type": "stream",
          "name": "stdout",
          "text": [
            "10\n",
            "30\n",
            "50\n",
            "30\n",
            "P\n",
            "h\n",
            "n\n",
            "t\n"
          ]
        }
      ]
    },
    {
      "cell_type": "code",
      "source": [
        "import numpy as np\n",
        "\n",
        "# Create an original NumPy array\n",
        "original_array = np.array([1, 2, 3, 4, 5])\n",
        "\n",
        "# Create a copy using np.copy()\n",
        "copied_array = np.copy(original_array)\n",
        "\n",
        "# Modify the copied array\n",
        "copied_array[0] = 99\n",
        "\n",
        "# Print both arrays to see the difference\n",
        "print(\"Original Array:\", original_array)  # Output: [1 2 3 4 5]\n",
        "print(\"Copied Array:\", copied_array)      # Output: [99  2  3  4  5]\n"
      ],
      "metadata": {
        "colab": {
          "base_uri": "https://localhost:8080/"
        },
        "id": "cIYoT61hPzY5",
        "outputId": "70f2afef-15ec-4912-f222-725756f0b861"
      },
      "execution_count": null,
      "outputs": [
        {
          "output_type": "stream",
          "name": "stdout",
          "text": [
            "Original Array: [1 2 3 4 5]\n",
            "Copied Array: [99  2  3  4  5]\n"
          ]
        }
      ]
    },
    {
      "cell_type": "code",
      "source": [
        "# Finding the maximum value in a list\n",
        "numbers = [10, 25, 5, 40, 15]\n",
        "print(\"Maximum value:\", max(numbers))  # Output: 40\n",
        "\n",
        "# Finding the maximum value in a tuple\n",
        "values = (8, 3, 12, 1, 7)\n",
        "print(\"Maximum value:\", max(values))  # Output: 12\n",
        "\n",
        "# Finding the maximum character in a string (based on ASCII value)\n",
        "text = \"hello\"\n",
        "print(\"Maximum character:\", max(text))  # Output: 'o' (highest ASCII value)\n",
        "\n",
        "# Finding the maximum among multiple numbers\n",
        "print(\"Maximum of (10, 20, 30):\", max(10, 20, 30))  # Output: 30\n",
        "\n",
        "# Using max() with a key function\n",
        "words = [\"apple\", \"banana\", \"kiwi\", \"grape\"]\n",
        "print(\"Longest word:\", max(words, key=len))  # Output: 'banana' (longest length)\n"
      ],
      "metadata": {
        "colab": {
          "base_uri": "https://localhost:8080/"
        },
        "id": "sB64kGb-QE4x",
        "outputId": "e1f19287-f32f-4d3e-9d8d-21f959da0ef8"
      },
      "execution_count": null,
      "outputs": [
        {
          "output_type": "stream",
          "name": "stdout",
          "text": [
            "Maximum value: 40\n",
            "Maximum value: 12\n",
            "Maximum character: o\n",
            "Maximum of (10, 20, 30): 30\n",
            "Longest word: banana\n"
          ]
        }
      ]
    },
    {
      "cell_type": "code",
      "source": [
        "# Finding the minimum value in a list\n",
        "numbers = [10, 25, 5, 40, 15]\n",
        "print(\"Minimum value:\", min(numbers))  # Output: 5\n",
        "\n",
        "# Finding the minimum value in a tuple\n",
        "values = (8, 3, 12, 1, 7)\n",
        "print(\"Minimum value:\", min(values))  # Output: 1\n",
        "\n",
        "# Finding the minimum character in a string (based on ASCII value)\n",
        "text = \"hello\"\n",
        "print(\"Minimum character:\", min(text))  # Output: 'e' (smallest ASCII value)\n",
        "\n",
        "# Finding the minimum among multiple numbers\n",
        "print(\"Minimum of (10, 20, 30):\", min(10, 20, 30))  # Output: 10\n",
        "\n",
        "# Using min() with a key function\n",
        "words = [\"apple\", \"banana\", \"kiwi\", \"grape\"]\n",
        "print(\"Shortest word:\", min(words, key=len))  # Output: 'kiwi' (shortest length)\n"
      ],
      "metadata": {
        "colab": {
          "base_uri": "https://localhost:8080/"
        },
        "id": "USIVfHbPQJUQ",
        "outputId": "a37ee2e6-5428-48d5-9eab-720688640ecd"
      },
      "execution_count": null,
      "outputs": [
        {
          "output_type": "stream",
          "name": "stdout",
          "text": [
            "Minimum value: 5\n",
            "Minimum value: 1\n",
            "Minimum character: e\n",
            "Minimum of (10, 20, 30): 10\n",
            "Shortest word: kiwi\n"
          ]
        }
      ]
    },
    {
      "cell_type": "code",
      "source": [
        "# Summing elements in a list\n",
        "numbers = [10, 20, 30, 40, 50]\n",
        "print(\"Sum of numbers:\", sum(numbers))  # Output: 150\n",
        "\n",
        "# Summing elements in a tuple\n",
        "values = (5, 15, 25, 35)\n",
        "print(\"Sum of values:\", sum(values))  # Output: 80\n",
        "\n",
        "# Using sum() with a start value\n",
        "more_numbers = [1, 2, 3]\n",
        "print(\"Sum with start value 10:\", sum(more_numbers, 10))  # Output: 16\n",
        "\n",
        "# Summing elements of a NumPy array\n",
        "import numpy as np\n",
        "array = np.array([4, 8, 12])\n",
        "print(\"Sum of NumPy array:\", sum(array))  # Output: 24\n",
        "\n",
        "# Summing elements of a dictionary (keys by default)\n",
        "my_dict = {1: \"a\", 2: \"b\", 3: \"c\"}\n",
        "print(\"Sum of dictionary keys:\", sum(my_dict))  # Output: 6\n"
      ],
      "metadata": {
        "id": "lKbNGuroQ30B",
        "outputId": "73d160e7-29e2-4013-b712-697a779768d4",
        "colab": {
          "base_uri": "https://localhost:8080/"
        }
      },
      "execution_count": null,
      "outputs": [
        {
          "output_type": "stream",
          "name": "stdout",
          "text": [
            "Sum of numbers: 150\n",
            "Sum of values: 80\n",
            "Sum with start value 10: 16\n",
            "Sum of NumPy array: 24\n",
            "Sum of dictionary keys: 6\n"
          ]
        }
      ]
    }
  ]
}