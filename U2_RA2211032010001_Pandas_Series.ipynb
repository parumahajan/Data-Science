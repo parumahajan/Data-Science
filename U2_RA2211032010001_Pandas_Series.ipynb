{
  "nbformat": 4,
  "nbformat_minor": 0,
  "metadata": {
    "colab": {
      "provenance": []
    },
    "kernelspec": {
      "name": "python3",
      "display_name": "Python 3"
    },
    "language_info": {
      "name": "python"
    }
  },
  "cells": [
    {
      "cell_type": "code",
      "execution_count": 4,
      "metadata": {
        "colab": {
          "base_uri": "https://localhost:8080/"
        },
        "id": "FimoKSQJUqpj",
        "outputId": "b97ae1f8-0466-4f49-968e-aae6b7f39ebf"
      },
      "outputs": [
        {
          "output_type": "stream",
          "name": "stdout",
          "text": [
            "0    10\n",
            "1    20\n",
            "2    30\n",
            "3    40\n",
            "4    50\n",
            "dtype: int64\n"
          ]
        }
      ],
      "source": [
        "# Create a panda series with implicit indexing\n",
        "import pandas as pd\n",
        "\n",
        "# Creating a pandas Series with implicit indexing\n",
        "data = [10, 20, 30, 40, 50]\n",
        "series = pd.Series(data)\n",
        "\n",
        "# Display the Series\n",
        "print(series)"
      ]
    },
    {
      "cell_type": "code",
      "source": [
        "# Create a panda series with explicit indexing\n",
        "import pandas as pd\n",
        "\n",
        "# Creating a pandas Series with explicit indexing\n",
        "data = [10, 20, 30, 40, 50]\n",
        "index_labels = ['a', 'b', 'c', 'd', 'e']\n",
        "series = pd.Series(data, index=index_labels)\n",
        "\n",
        "# Display the Series\n",
        "print(series)"
      ],
      "metadata": {
        "colab": {
          "base_uri": "https://localhost:8080/"
        },
        "id": "SHTRE11YU1_u",
        "outputId": "9b47d7b7-7f22-4c07-8bb2-9db651bfc95c"
      },
      "execution_count": 5,
      "outputs": [
        {
          "output_type": "stream",
          "name": "stdout",
          "text": [
            "a    10\n",
            "b    20\n",
            "c    30\n",
            "d    40\n",
            "e    50\n",
            "dtype: int64\n"
          ]
        }
      ]
    },
    {
      "cell_type": "code",
      "source": [
        "# To create a dataframe, add new column to the dataframe, perform head and tail operation, and fetch the second column from the table\n",
        "\n",
        "import pandas as pd\n",
        "\n",
        "# Create a dataframe\n",
        "data = {\n",
        "    'Name': ['Alice', 'Bob', 'Charlie', 'David', 'Emma'],\n",
        "    'Age': [25, 30, 35, 40, 22],\n",
        "    'City': ['New York', 'Los Angeles', 'Chicago', 'Houston', 'Phoenix']\n",
        "}\n",
        "\n",
        "df = pd.DataFrame(data)\n",
        "\n",
        "# Add a new column to the dataframe\n",
        "df['Salary'] = [50000, 60000, 70000, 80000, 55000]\n",
        "\n",
        "# Perform head and tail operations\n",
        "print(\"Head of the dataframe:\")\n",
        "print(df.head())\n",
        "\n",
        "print(\"\\nTail of the dataframe:\")\n",
        "print(df.tail())\n",
        "\n",
        "# Fetch the second column (Age)\n",
        "second_column = df.iloc[:, 1]  # Using iloc to select the second column (index 1)\n",
        "print(\"\\nSecond Column (Age):\")\n",
        "print(second_column)"
      ],
      "metadata": {
        "colab": {
          "base_uri": "https://localhost:8080/"
        },
        "id": "9_6HabtyU5_J",
        "outputId": "89c12541-e5b5-4561-b15f-1d10c88ebe83"
      },
      "execution_count": 3,
      "outputs": [
        {
          "output_type": "stream",
          "name": "stdout",
          "text": [
            "Head of the dataframe:\n",
            "      Name  Age         City  Salary\n",
            "0    Alice   25     New York   50000\n",
            "1      Bob   30  Los Angeles   60000\n",
            "2  Charlie   35      Chicago   70000\n",
            "3    David   40      Houston   80000\n",
            "4     Emma   22      Phoenix   55000\n",
            "\n",
            "Tail of the dataframe:\n",
            "      Name  Age         City  Salary\n",
            "0    Alice   25     New York   50000\n",
            "1      Bob   30  Los Angeles   60000\n",
            "2  Charlie   35      Chicago   70000\n",
            "3    David   40      Houston   80000\n",
            "4     Emma   22      Phoenix   55000\n",
            "\n",
            "Second Column (Age):\n",
            "0    25\n",
            "1    30\n",
            "2    35\n",
            "3    40\n",
            "4    22\n",
            "Name: Age, dtype: int64\n"
          ]
        }
      ]
    }
  ]
}